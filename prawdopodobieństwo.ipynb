{
 "cells": [
  {
   "cell_type": "markdown",
   "id": "e8b4f3c7-ea78-412c-ae57-24aebd88bf75",
   "metadata": {},
   "source": [
    "# Rachunek prawdopodbieństwa"
   ]
  },
  {
   "cell_type": "code",
   "execution_count": 1,
   "id": "150c6831-20a3-4c83-b8a3-f0c60e9479d5",
   "metadata": {},
   "outputs": [
    {
     "name": "stdout",
     "output_type": "stream",
     "text": [
      "Statystyki dla próby 100:\n",
      "count    100.000000\n",
      "mean       2.896153\n",
      "std        0.908168\n",
      "min        0.380255\n",
      "25%        2.399094\n",
      "50%        2.873044\n",
      "75%        3.405952\n",
      "max        4.852278\n",
      "Name: value, dtype: float64\n",
      "\n",
      "Statystyki dla próby 10 000:\n",
      "count    10000.000000\n",
      "mean         2.998821\n",
      "std          1.003741\n",
      "min         -0.922400\n",
      "25%          2.326435\n",
      "50%          2.998835\n",
      "75%          3.672032\n",
      "max          6.926238\n",
      "Name: value, dtype: float64\n"
     ]
    }
   ],
   "source": [
    "import numpy as np\n",
    "import pandas as pd\n",
    "\n",
    "# Ustawienie ziarna losowości dla powtarzalności wyników\n",
    "np.random.seed(42)\n",
    "\n",
    "# Generujemy dane z rozkładu normalnego (średnia = 3, odchylenie standardowe = 1)\n",
    "sample_100 = np.random.normal(loc=3, scale=1, size=100)\n",
    "sample_10000 = np.random.normal(loc=3, scale=1, size=10000)\n",
    "\n",
    "# Tworzymy DataFrame dla obu próbek\n",
    "df_100 = pd.DataFrame({'value': sample_100})\n",
    "df_10000 = pd.DataFrame({'value': sample_10000})\n",
    "\n",
    "# Obliczamy statystyki opisowe\n",
    "stats_100 = df_100['value'].describe()\n",
    "stats_10000 = df_10000['value'].describe()\n",
    "\n",
    "print(\"Statystyki dla próby 100:\")\n",
    "print(stats_100)\n",
    "print(\"\\nStatystyki dla próby 10 000:\")\n",
    "print(stats_10000)\n"
   ]
  }
 ],
 "metadata": {
  "kernelspec": {
   "display_name": "Python 3 (ipykernel)",
   "language": "python",
   "name": "python3"
  },
  "language_info": {
   "codemirror_mode": {
    "name": "ipython",
    "version": 3
   },
   "file_extension": ".py",
   "mimetype": "text/x-python",
   "name": "python",
   "nbconvert_exporter": "python",
   "pygments_lexer": "ipython3",
   "version": "3.12.7"
  }
 },
 "nbformat": 4,
 "nbformat_minor": 5
}
